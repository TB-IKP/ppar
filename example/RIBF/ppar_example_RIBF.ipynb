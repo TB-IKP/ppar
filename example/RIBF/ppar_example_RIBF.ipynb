{
 "cells": [
  {
   "cell_type": "markdown",
   "id": "e7e248ef-37dd-4635-b700-4a834235b3a0",
   "metadata": {},
   "source": [
    "# MWE $p_{\\parallel}$ analysis"
   ]
  },
  {
   "cell_type": "code",
   "execution_count": null,
   "id": "e9a7ece5-0102-4263-8bb4-fcad3fa6d8cd",
   "metadata": {},
   "outputs": [],
   "source": [
    "import numpy as np\n",
    "import matplotlib.pyplot as plt\n",
    "\n",
    "import ppar as ppar"
   ]
  },
  {
   "cell_type": "code",
   "execution_count": null,
   "id": "46f2f3ff-9991-428f-9c92-aad79a5f11e6",
   "metadata": {},
   "outputs": [],
   "source": [
    "INCOMING = '84Ge'\n",
    "OUTGOING = '83Ge'\n",
    "\n",
    "#Monte Carlo samples for\n",
    "#subtraction of bg from peak\n",
    "MC_NUM   = int(1e4)\n",
    "\n",
    "#Gate energies\n",
    "ENERGIES = np.array([#{'peak': 631,'bg': 675},\n",
    "                     {'peak':1045,'bg':1080},\n",
    "                     #{'peak':1238,'bg':1290},\n",
    "                     #{'peak':1359,'bg':1410},\n",
    "                     {'peak':2113,'bg':2245},\n",
    "                    ])\n",
    "\n",
    "#Definition of beam, target, and outgoing fragment.\n",
    "#This will mainly be needed later for automated\n",
    "#stopping calculations using Atima.\n",
    "beam     = {'name':'84Ge','Z':32,'A':52,'mass':83.937575}\n",
    "product  = {'name':'83Ge','Z':32,'A':51,'mass':82.934539}\n",
    "\n",
    "target   = {'name': '9Be','Z': 4,'A': 9,'mass': 9.0121821,\n",
    "            'thickness':1108.8,'density':1.848}\n",
    "\n",
    "#for plotting\n",
    "Dic_colors  = {0:'black',1:'firebrick',2:'orange',3:'royalblue',4:'forestgreen'}\n",
    "Dic_markers = {0:'v',1:'x',2:'.',3:'s',4:'d'}"
   ]
  },
  {
   "cell_type": "markdown",
   "id": "3c6cb53d-4236-46ca-84c0-353b486f9b63",
   "metadata": {
    "jp-MarkdownHeadingCollapsed": true
   },
   "source": [
    "## Data preparation\n",
    "\n",
    "Histograms for unreacted and reaction setting are loaded from *.root* files.\n",
    "Data is extracted and plotted. Momentum distributions from background cuts\n",
    "are subtracted from cuts on depopulating transitions.\n",
    "For the sake of simplicty, equal $\\gamma$-ray detection efficiencies are assumed."
   ]
  },
  {
   "cell_type": "markdown",
   "id": "edd3dbce-5644-4e21-a92c-6d65722a32f1",
   "metadata": {
    "jp-MarkdownHeadingCollapsed": true
   },
   "source": [
    "### Data"
   ]
  },
  {
   "cell_type": "code",
   "execution_count": null,
   "id": "cc9042cd-fec5-4e1f-a982-c4fa4463e4d5",
   "metadata": {},
   "outputs": [],
   "source": [
    "hists       = {key:{} for key in [INCOMING,OUTGOING]}\n",
    "\n",
    "for key in hists.keys():\n",
    "\n",
    "    file = 'hist_ppar_in%s_out%s.root'% (INCOMING,key)\n",
    "\n",
    "    #inclusive distribution\n",
    "    hists[key]['incl'] = ppar.load_file(file,'ppar_beta/ppar_rest_beta;1',mc_num=MC_NUM)\n",
    "\n",
    "    #select reacted setting\n",
    "    if key == INCOMING:\n",
    "        continue\n",
    "\n",
    "    for comb in ENERGIES:\n",
    "        for en in comb.values():\n",
    "\n",
    "            hists[key][en] = ppar.load_file(file,'ppar_beta/ppar_rest_beta_%i;1'% en,mc_num=MC_NUM)"
   ]
  },
  {
   "cell_type": "code",
   "execution_count": null,
   "id": "4d4d5a8c-3dc5-48e0-a77f-319c2d204a54",
   "metadata": {
    "scrolled": true
   },
   "outputs": [],
   "source": [
    "for key in hists.keys():\n",
    "    for name,hist in hists[key].items():\n",
    "\n",
    "        name = '\\ninclusive' if name == 'incl' else '\\n%i keV'% name\n",
    "        name = '(%s,%s)'% (ppar.name_nucl(INCOMING),ppar.name_nucl(key)) + name\n",
    "\n",
    "        fig,ax = ppar.plot_hist(hist,label=name)\n",
    "\n",
    "        ax.set_xlim(-2000,2000);\n",
    "\n",
    "        #ax.set_xlabel(r'$p_{\\parallel}$ (MeV/c)', fontsize=16);"
   ]
  },
  {
   "cell_type": "markdown",
   "id": "c25fef6a-dc3c-47e1-93ac-b60fea440381",
   "metadata": {
    "jp-MarkdownHeadingCollapsed": true
   },
   "source": [
    "### Efficiency"
   ]
  },
  {
   "cell_type": "code",
   "execution_count": null,
   "id": "a338b0e1-08c6-49d3-810c-652c577e9849",
   "metadata": {},
   "outputs": [],
   "source": [
    "for comb in ENERGIES:\n",
    "    for en in comb.values():\n",
    "\n",
    "        #This must be replaced by real efficiencies!\n",
    "        eff = np.ones(MC_NUM)\n",
    "\n",
    "        hists[OUTGOING][en]['values']    = hists[OUTGOING][en]['values']/np.mean(eff)\n",
    "        hists[OUTGOING][en]['mc_values'] = hists[OUTGOING][en]['mc_values']/eff"
   ]
  },
  {
   "cell_type": "markdown",
   "id": "dbb09675-0b18-49e9-82bd-51c89cce1a79",
   "metadata": {
    "jp-MarkdownHeadingCollapsed": true
   },
   "source": [
    "### Background subtraction"
   ]
  },
  {
   "cell_type": "code",
   "execution_count": null,
   "id": "99bfcf86-a17e-4a23-91ab-eb83e8ae650a",
   "metadata": {},
   "outputs": [],
   "source": [
    "hists_corr = {}\n",
    "\n",
    "for comb in ENERGIES:\n",
    "\n",
    "    values    = hists[OUTGOING][comb['peak']]['values']    - hists[OUTGOING][comb['bg']]['values']\n",
    "    mc_values = hists[OUTGOING][comb['peak']]['mc_values'] - hists[OUTGOING][comb['bg']]['mc_values']\n",
    "\n",
    "    hists_corr[comb['peak']] = {'x_edges':  hists[OUTGOING][comb['peak']]['x_edges'],\n",
    "                                'x_centers':hists[OUTGOING][comb['peak']]['x_centers'],\n",
    "                                'values':   values,\n",
    "                                'mc_values':mc_values,\n",
    "                               }"
   ]
  },
  {
   "cell_type": "code",
   "execution_count": null,
   "id": "aa5dd10f-34df-48b5-bd16-05bd6b18d115",
   "metadata": {
    "jupyter": {
     "source_hidden": true
    }
   },
   "outputs": [],
   "source": [
    "for en in ENERGIES:\n",
    "\n",
    "    en = en['peak']\n",
    "\n",
    "    fig,ax = ppar.plot_hist(hists_corr[en],label='%i keV'% en)\n",
    "\n",
    "    #add uncertainty bands\n",
    "    plot_mean = np.mean(hists_corr[en]['mc_values'],axis=1)\n",
    "    plot_std  = np.std(hists_corr[en]['mc_values'],axis=1)\n",
    "\n",
    "    ax.fill_between(hists_corr[en]['x_centers'],\n",
    "                    plot_mean-plot_std,plot_mean+plot_std,\n",
    "                    step='mid',color='grey',alpha=0.5\n",
    "                   )\n",
    "\n",
    "    ax.set_xlim(-2000,2000);\n",
    "\n",
    "    ax.set_xlabel(r'$p_{\\parallel}$ (MeV/c)', fontsize=16);"
   ]
  },
  {
   "cell_type": "markdown",
   "id": "acdf9712-6f1d-46f5-8089-cfea19de54c9",
   "metadata": {
    "jp-MarkdownHeadingCollapsed": true
   },
   "source": [
    "## Theory\n",
    "\n",
    "Initialization of *ppar* with details on beam, target, and outgoing fragment.\n",
    "This information will in the future be used for stopping calculations \n",
    "(similar to the NSCL part of the *ppar* code).\n",
    "For now the momentum difference due to the different stopping of beam and fragment\n",
    "in the target has to be calculated manually using LISE++.\n",
    "\n",
    "Inclusive parallel momentum distributions from unreacted and reaction settings \n",
    "can be loaded and fitted to center them around zero.\n",
    "A variety of fit models is available; they are selected through the number of input parameters.\n",
    "Possible are a simple Gaussian (3 parameters), two error functions (4),\n",
    "two error funtions with an exponential low-momentum tail (7) or\n",
    "two error funtions with a low-momentum tail comprising an exponential function and a Gaussian (10).\n",
    "\n",
    "Convolution of parallel momentum distributions obtained from theory with a rectangular function\n",
    "accounting for the momentum difference due to the uncertain reaction position and the\n",
    "profile from the unreacted beam setting."
   ]
  },
  {
   "cell_type": "code",
   "execution_count": null,
   "id": "b3bbb5c6-88cf-477f-911a-d261554a977a",
   "metadata": {},
   "outputs": [],
   "source": [
    "ppar_mwe = ppar.ppar_RIBF(beam,target,product,verbose=True,)"
   ]
  },
  {
   "cell_type": "markdown",
   "id": "88622276-432e-4a3f-b677-408a3d72d1d6",
   "metadata": {},
   "source": [
    "Calculate the momentum difference due to the unknown reaction position along the target with LISE++\n",
    "and insert the symmetrized difference, i.e. in the form [-a,a] here.\n",
    "In the future this might be done automatically using more comprehensive Atima calculations."
   ]
  },
  {
   "cell_type": "code",
   "execution_count": null,
   "id": "1a059ec1-87bd-4dc7-b13c-c7a05210bf96",
   "metadata": {},
   "outputs": [],
   "source": [
    "p_diff = [-100,100] #example value\n",
    "\n",
    "ppar_mwe.calc_stopping(p_diff)"
   ]
  },
  {
   "cell_type": "markdown",
   "id": "e140717d-812f-4377-b0ed-1ea1bb70a4cc",
   "metadata": {
    "jp-MarkdownHeadingCollapsed": true
   },
   "source": [
    "### Unreacted"
   ]
  },
  {
   "cell_type": "code",
   "execution_count": null,
   "id": "ee6b2857-68c9-438b-966e-fddf956f6fa5",
   "metadata": {},
   "outputs": [],
   "source": [
    "ppar_mwe.load_unreacted(file='hist_ppar_in%s_out%s.root'% (INCOMING,INCOMING),\n",
    "                        histogram='ppar_beta/ppar_rest_beta;1',\n",
    "                        rebin=1\n",
    "                       )\n",
    "\n",
    "ppar_mwe.plot_unreacted(xlim=[-1000,1000]);"
   ]
  },
  {
   "cell_type": "code",
   "execution_count": null,
   "id": "cafc6149-ef03-46ea-90cd-00d382eaeab2",
   "metadata": {},
   "outputs": [],
   "source": [
    "x0 = [1e8,0,10]\n",
    "#x0 = [1e8,0,10,10]\n",
    "\n",
    "ppar_mwe.fit_unreacted(fit_range=[-250,250],x0=x0)\n",
    "ppar_mwe.plot_unreacted(xlim=[-1000,1000]);"
   ]
  },
  {
   "cell_type": "markdown",
   "id": "03e406db-30ae-4db4-8860-601c851ea4bc",
   "metadata": {
    "jp-MarkdownHeadingCollapsed": true
   },
   "source": [
    "### Reaction setting"
   ]
  },
  {
   "cell_type": "code",
   "execution_count": null,
   "id": "2ec3ff9d-8504-44f9-91e7-315bfe56b0b9",
   "metadata": {},
   "outputs": [],
   "source": [
    "ppar_mwe.load_reacted(file='hist_ppar_in%s_out%s.root'% (INCOMING,OUTGOING),\n",
    "                      histogram='ppar_beta/ppar_rest_beta;1',\n",
    "                      rebin=1\n",
    "                     )\n",
    "\n",
    "ppar_mwe.plot_reacted(xlim=[-1000,1000]);"
   ]
  },
  {
   "cell_type": "code",
   "execution_count": null,
   "id": "b4bb4c01-1126-41af-aec2-b6d5146f9d3e",
   "metadata": {
    "scrolled": true
   },
   "outputs": [],
   "source": [
    "#x0 = [1e8,0,10]\n",
    "x0 = [1e8,0,10,10]\n",
    "#x0 = [0,0,0,1e8,0,10,10]\n",
    "\n",
    "ppar_mwe.fit_reacted(fit_range=[-250,250],x0=x0)\n",
    "ppar_mwe.plot_reacted(xlim=[-1000,1000]);"
   ]
  },
  {
   "cell_type": "markdown",
   "id": "9b834f67-1158-4ab8-ab34-48cd2b155e30",
   "metadata": {
    "jp-MarkdownHeadingCollapsed": true
   },
   "source": [
    "### Comparison"
   ]
  },
  {
   "cell_type": "code",
   "execution_count": null,
   "id": "e14415c1-8f03-41cb-890c-7d9d088c9088",
   "metadata": {},
   "outputs": [],
   "source": [
    "fig,ax = ppar_mwe.plot_unreacted(plot_fit=False,xlim=[-1000,1000],label='Unreacted');\n",
    "\n",
    "x_plot = ppar_mwe.spec_reac['x_centers']\n",
    "y_plot = ppar_mwe.spec_reac['values']\n",
    "scale  = np.sum(ppar_mwe.spec_unreac['values'])/np.sum(ppar_mwe.spec_reac['values'])\n",
    "\n",
    "ax.step(x_plot,scale*y_plot,where='mid',color='forestgreen',label='Reacted')\n",
    "\n",
    "plt.legend(fontsize=16)"
   ]
  },
  {
   "cell_type": "markdown",
   "id": "f19068ac-f7fb-420c-83fa-fa2fb82e9037",
   "metadata": {
    "jp-MarkdownHeadingCollapsed": true
   },
   "source": [
    "### Convolution of theoretical distributions"
   ]
  },
  {
   "cell_type": "code",
   "execution_count": null,
   "id": "45f2bedf-fb51-4291-8c2b-5f442018b36b",
   "metadata": {},
   "outputs": [],
   "source": [
    "theo_mwe = {name:ppar.state(ppar_mwe,'ppar_theo/pparGe83_%s.dat'% name) for name in ['3s1','2d5','1g9']}"
   ]
  },
  {
   "cell_type": "markdown",
   "id": "48166b34-7c2b-44da-949b-9d81439d61fc",
   "metadata": {
    "jp-MarkdownHeadingCollapsed": true
   },
   "source": [
    "#### $3s_{1/2}$"
   ]
  },
  {
   "cell_type": "code",
   "execution_count": null,
   "id": "f132544c-98a9-4039-9487-c32631069e6a",
   "metadata": {},
   "outputs": [],
   "source": [
    "ORB = '3s1'\n",
    "\n",
    "theo_mwe[ORB].plot_theory();\n",
    "theo_mwe[ORB].convolve_theory();\n",
    "theo_mwe[ORB].plot_theory();"
   ]
  },
  {
   "cell_type": "markdown",
   "id": "d7f624ed-1845-4cf2-838b-eafe4460ec73",
   "metadata": {
    "jp-MarkdownHeadingCollapsed": true
   },
   "source": [
    "#### $2d_{5/2}$"
   ]
  },
  {
   "cell_type": "code",
   "execution_count": null,
   "id": "71f3070a-deae-4033-b49e-98440a1acc72",
   "metadata": {},
   "outputs": [],
   "source": [
    "ORB = '2d5'\n",
    "\n",
    "theo_mwe[ORB].plot_theory();\n",
    "theo_mwe[ORB].convolve_theory();\n",
    "theo_mwe[ORB].plot_theory();"
   ]
  },
  {
   "cell_type": "markdown",
   "id": "df37ef47-3a34-4413-ab0f-06b09c4470d7",
   "metadata": {
    "jp-MarkdownHeadingCollapsed": true
   },
   "source": [
    "#### $1g_{9/2}$"
   ]
  },
  {
   "cell_type": "code",
   "execution_count": null,
   "id": "1406f612-dab1-4370-95e3-814f21a31f71",
   "metadata": {},
   "outputs": [],
   "source": [
    "ORB = '1g9'\n",
    "\n",
    "theo_mwe[ORB].plot_theory();\n",
    "theo_mwe[ORB].convolve_theory();\n",
    "theo_mwe[ORB].plot_theory();"
   ]
  },
  {
   "cell_type": "markdown",
   "id": "29b57893-c32d-4b46-b3ed-831be1de9905",
   "metadata": {
    "jp-MarkdownHeadingCollapsed": true
   },
   "source": [
    "## Comparison between theory and data\n",
    "\n",
    "Comparison of background-subtracted, experimental parallel momentum distributions to\n",
    "convolved distributions from theory. \n",
    "\n",
    "The experimental distribution can be rebinned if needed and (almost) empty bins can be cut\n",
    "with the *threshold* argument. The theoretical distribution is scaled to the maximum bin content\n",
    "of the experimental distribution using the *scale_theory* method.\n",
    "\n",
    "If possible the *plot_hist* method will include the scaled theoretical distribution.\n",
    "This behavior can be suppressed by setting the *plot_theory* argument to *False*.\n",
    "The plots can be somewhat modified using the appropriate keyword arguments.\n",
    "For more customization the *figure* and *axes* objects are returned."
   ]
  },
  {
   "cell_type": "markdown",
   "id": "adb72f7e-2aac-4fd8-93e4-5569fdf89bb6",
   "metadata": {
    "jp-MarkdownHeadingCollapsed": true
   },
   "source": [
    "### 1359 keV"
   ]
  },
  {
   "cell_type": "code",
   "execution_count": null,
   "id": "9ac8eb1c-4874-4451-9d8d-c3793b676141",
   "metadata": {},
   "outputs": [],
   "source": [
    "EN = 1045\n",
    "\n",
    "#Histogram needs to be redefined: mc_vales => values\n",
    "hist = {'x_centers':hists_corr[EN]['x_centers'],\n",
    "        'x_edges':  hists_corr[EN]['x_edges'],\n",
    "        'values':   hists_corr[EN]['mc_values'],\n",
    "       }\n",
    "\n",
    "for orb in theo_mwe.keys():\n",
    "\n",
    "    theo_mwe[orb].rebin_hist(hist,\n",
    "                             rebin=2,\n",
    "                             threshold=10,\n",
    "                             )\n",
    "    #theo_mwe[orb].plot_hist(xlim=[-1000,1000],ylim=[-10,600]);\n",
    "\n",
    "    theo_mwe[orb].scale_theory()\n",
    "    theo_mwe[orb].plot_hist(xlim=[-1000,1000],ylim=[-10,600]);"
   ]
  },
  {
   "cell_type": "code",
   "execution_count": null,
   "id": "db6ba268-d5cb-4de6-b327-bae4029037e0",
   "metadata": {},
   "outputs": [],
   "source": [
    "#Plot of experimental parallel momentum distribution with all distributions from theory.\n",
    "fig,ax = theo_mwe['3s1'].plot_hist(plot_theory=False,xlim=[-1000,1000],ylim=[-10,600]);\n",
    "\n",
    "for num,orb in enumerate(theo_mwe.keys()):\n",
    "\n",
    "    x_plot = theo_mwe[orb].ppar_theo['tail_target']['x_centers']\n",
    "    y_plot = theo_mwe[orb].ppar_theo['tail_target']['values']\n",
    "    scale  = theo_mwe[orb].fit_res\n",
    "    \n",
    "    ax.plot(x_plot,scale*y_plot,color=Dic_colors[num],label=orb)\n",
    "\n",
    "    ax.legend(fontsize=16)"
   ]
  },
  {
   "cell_type": "markdown",
   "id": "77070ac2-447e-47f6-8337-67c5c2f72979",
   "metadata": {
    "jp-MarkdownHeadingCollapsed": true
   },
   "source": [
    "### 2113 keV"
   ]
  },
  {
   "cell_type": "code",
   "execution_count": null,
   "id": "8b9f4556-8f9c-489e-a6e3-1c975de6aa71",
   "metadata": {},
   "outputs": [],
   "source": [
    "EN = 2113\n",
    "\n",
    "#Histogram needs to be redefined: mc_vales => values\n",
    "hist = {'x_centers':hists_corr[EN]['x_centers'],\n",
    "        'x_edges':  hists_corr[EN]['x_edges'],\n",
    "        'values':   hists_corr[EN]['mc_values'],\n",
    "       }\n",
    "\n",
    "for orb in theo_mwe.keys():\n",
    "\n",
    "    theo_mwe[orb].rebin_hist(hist,\n",
    "                             rebin=1,\n",
    "                             threshold=10,\n",
    "                             )\n",
    "    #theo_mwe[ORB].plot_hist(xlim=[-1000,1000],ylim=[-10,600]);\n",
    "\n",
    "    theo_mwe[orb].scale_theory()\n",
    "    theo_mwe[orb].plot_hist(xlim=[-1000,1000],ylim=[-10,600]);"
   ]
  },
  {
   "cell_type": "code",
   "execution_count": null,
   "id": "4010f2ac-b663-4bbc-a87e-5d7903c7f58d",
   "metadata": {},
   "outputs": [],
   "source": [
    "#Plot of experimental parallel momentum distribution with all distributions from theory.\n",
    "fig,ax = theo_mwe['3s1'].plot_hist(plot_theory=False,xlim=[-1000,1000],ylim=[-10,600]);\n",
    "\n",
    "for num,orb in enumerate(theo_mwe.keys()):\n",
    "\n",
    "    x_plot = theo_mwe[orb].ppar_theo['tail_target']['x_centers']\n",
    "    y_plot = theo_mwe[orb].ppar_theo['tail_target']['values']\n",
    "    scale  = theo_mwe[orb].fit_res\n",
    "    \n",
    "    ax.plot(x_plot,scale*y_plot,color=Dic_colors[num],label=orb)\n",
    "\n",
    "    ax.legend(fontsize=16)"
   ]
  },
  {
   "cell_type": "code",
   "execution_count": null,
   "id": "e35ef74a-578e-4ccb-aced-91a6b938cec0",
   "metadata": {},
   "outputs": [],
   "source": []
  }
 ],
 "metadata": {
  "kernelspec": {
   "display_name": "Python 3 (ipykernel)",
   "language": "python",
   "name": "python3"
  },
  "language_info": {
   "codemirror_mode": {
    "name": "ipython",
    "version": 3
   },
   "file_extension": ".py",
   "mimetype": "text/x-python",
   "name": "python",
   "nbconvert_exporter": "python",
   "pygments_lexer": "ipython3",
   "version": "3.13.2"
  }
 },
 "nbformat": 4,
 "nbformat_minor": 5
}
